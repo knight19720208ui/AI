{
  "nbformat": 4,
  "nbformat_minor": 0,
  "metadata": {
    "colab": {
      "provenance": [],
      "authorship_tag": "ABX9TyNq2S7M1TWs9LqOu+eBzvgk",
      "include_colab_link": true
    },
    "kernelspec": {
      "name": "python3",
      "display_name": "Python 3"
    },
    "language_info": {
      "name": "python"
    }
  },
  "cells": [
    {
      "cell_type": "markdown",
      "metadata": {
        "id": "view-in-github",
        "colab_type": "text"
      },
      "source": [
        "<a href=\"https://colab.research.google.com/github/knight19720208ui/AI/blob/main/RegresionLineal.ipynb\" target=\"_parent\"><img src=\"https://colab.research.google.com/assets/colab-badge.svg\" alt=\"Open In Colab\"/></a>"
      ]
    },
    {
      "cell_type": "code",
      "execution_count": null,
      "metadata": {
        "id": "9X41XUpaVt78"
      },
      "outputs": [],
      "source": [
        "import pandas as pd\n",
        "\n",
        "datos = pd.read_csv(\"datos/ingreso.csv\")\n",
        "datos"
      ]
    },
    {
      "cell_type": "markdown",
      "source": [
        "Gráfica"
      ],
      "metadata": {
        "id": "kLkyDv0GjtGZ"
      }
    },
    {
      "cell_type": "code",
      "source": [
        "import matplotlib.pyplot as plt\n",
        "\n",
        "plt.ylabel(\"Ingreso ($)\")\n",
        "plt.xlabel(\"Promedio de horas semanales trabajadas\")\n",
        "plt.scatter(datos[\"horas\"], datos[\"ingreso\"], color=\"pink\")\n",
        "plt.show()"
      ],
      "metadata": {
        "id": "VovcHjSEjwFu"
      },
      "execution_count": null,
      "outputs": []
    },
    {
      "cell_type": "markdown",
      "source": [
        "Modelo: Regresión lineal\n"
      ],
      "metadata": {
        "id": "1p_K7EB0jzu2"
      }
    },
    {
      "cell_type": "code",
      "source": [
        "from sklearn import linear_model\n",
        "\n",
        "regresion = linear_model.LinearRegression()\n",
        "\n",
        "horas = datos[\"horas\"].values.reshape((-1, 1))\n",
        "\n",
        "modelo = regresion.fit(horas, datos[\"ingreso\"])\n",
        "\n",
        "print(\"Intersección (b)\", modelo.intercept_)\n",
        "print(\"Pendiente (m)\", modelo.coef_)\n",
        "\n",
        "entrada = [[39.5], [40], [43], [43.5]]\n",
        "modelo.predict(entrada)\n",
        "\n",
        "plt.scatter(entrada, modelo.predict(entrada), color=\"red\")\n",
        "plt.plot(entrada, modelo.predict(entrada), color=\"black\")\n",
        "\n",
        "plt.ylabel(\"Ingreso ($)\")\n",
        "plt.xlabel(\"Promedio de horas semanales trabajadas\")\n",
        "plt.scatter(datos[\"horas\"], datos[\"ingreso\"], color=\"pink\", alpha=0.55)\n",
        "#plt.show()  #ejecutar"
      ],
      "metadata": {
        "id": "d2qbP8vcj3FP"
      },
      "execution_count": null,
      "outputs": []
    }
  ]
}