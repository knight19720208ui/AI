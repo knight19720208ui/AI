{
  "nbformat": 4,
  "nbformat_minor": 0,
  "metadata": {
    "colab": {
      "provenance": [],
      "collapsed_sections": [],
      "toc_visible": true,
      "include_colab_link": true
    },
    "kernelspec": {
      "name": "python3",
      "display_name": "Python 3"
    },
    "accelerator": "GPU"
  },
  "cells": [
    {
      "cell_type": "markdown",
      "metadata": {
        "id": "view-in-github",
        "colab_type": "text"
      },
      "source": [
        "<a href=\"https://colab.research.google.com/github/knight19720208ui/AI/blob/main/Taxi_openAI_RL.ipynb\" target=\"_parent\"><img src=\"https://colab.research.google.com/assets/colab-badge.svg\" alt=\"Open In Colab\"/></a>"
      ]
    },
    {
      "cell_type": "markdown",
      "metadata": {
        "id": "HnL9hNPERI6_"
      },
      "source": [
        "Aprendizaje por refuerzo - Inteligencia Artificial \n",
        "Tomado de: **: Ing. Ana Laura Diedrichs**"
      ]
    },
    {
      "cell_type": "markdown",
      "metadata": {
        "id": "tznv9desR3Va"
      },
      "source": [
        "# Introducción\n",
        "\n",
        "Vamos a trabajar utilizando este notebook y una librería llamada OpenAI (https://gym.openai.com/) y realizaremos simulaciones de aprendizaje por refuerzo.\n",
        "\n",
        "Ejecute los siguientes dos bloques de código (click en la flechita a la izquierda del bloque de código).\n",
        "\n",
        "Primero instalamos las librerías necesarias necesarias."
      ]
    },
    {
      "cell_type": "code",
      "metadata": {
        "id": "0sALMHPwGESj"
      },
      "source": [
        "!pip install cmake 'gym' scipy"
      ],
      "execution_count": null,
      "outputs": []
    },
    {
      "cell_type": "code",
      "metadata": {
        "id": "lkTmxV76OQw6"
      },
      "source": [
        "# este es un comentario en el código\n",
        "import gym # importa librería gym\n",
        "import pandas as pd # carga la librería pandas y la llamaremos como pd\n",
        "import matplotlib.pyplot as plt # carga la librería pyplot y la llamaremos de forma abreviada como plt\n",
        "\n"
      ],
      "execution_count": null,
      "outputs": []
    },
    {
      "cell_type": "markdown",
      "metadata": {
        "id": "Lj5OREewGX-g"
      },
      "source": [
        "## Descripción del ambiente\n"
      ]
    },
    {
      "cell_type": "markdown",
      "metadata": {
        "id": "v5H-bEnqSUNT"
      },
      "source": [
        "El siguiente bloque de código crea el ambiente **Taxi**, del inglés *environment* y su abreviatura *env*.\n"
      ]
    },
    {
      "cell_type": "code",
      "metadata": {
        "id": "Fz1iwEzCGFBw"
      },
      "source": [
        "env = gym.make(\"Taxi-v2\").env # crea / instancia ambiente llamado Taxi-v2\n",
        "\n",
        "env.render() # nos muestra una imagen de como luce el ambiente."
      ],
      "execution_count": null,
      "outputs": []
    },
    {
      "cell_type": "markdown",
      "metadata": {
        "id": "8nR8P6uXDkcI"
      },
      "source": [
        "\n",
        "* El trabajo del agente es recoger un pasajero de una ubicación y llevarlo a un destino. \n",
        "* Se reciben +20 puntos por llevarlo al destino indicado y se pierte un punto por cada paso realizado (*time-step*)\n",
        "* Se penaliza con 10 puntos (-10) por intentar recoger un pasajero o dejarlo en un destino que no era el indicado.\n",
        "* El cuadradito relleno de amarillo representa el taxi cuando no lleva pasajeros y se pone verde cuando lleva un pasajero.\n",
        "* El *pipe* (símbolo | ) representa una pared o muro, la misma no puede ser atravesada por el taxi.\n",
        "* Hay cuatro (4) ubicaciones idenficadas con distintas letras. \n",
        "\n",
        "R, G, Y, B  son posibles destino de recogida y llegada/destino de pasajeros. \n",
        "\n",
        "La letra en azul representa una ubicación actual para recoger un pasajero, y la letra lila o púrpura representa el destino del pasajero.\n",
        "\n"
      ]
    },
    {
      "cell_type": "markdown",
      "metadata": {
        "id": "IB0DZn3xGd6p"
      },
      "source": [
        "Veamos que otras cosas podemos hacer con *environment*"
      ]
    },
    {
      "cell_type": "code",
      "metadata": {
        "id": "VEwfMWJiGPHd"
      },
      "source": [
        "env.reset() # me \"resetea\" el ambiente a uno nuevo, uno aleatorio\n",
        "env.render() # muestra la imagen del ambiente\n",
        "\n",
        "print(\"Action Space {}\".format(env.action_space)) # cuántas acciones puede tomar el agente\n",
        "print(\"State Space {}\".format(env.observation_space)) # cuántos espacios o estados s puede tomar el agente\n"
      ],
      "execution_count": null,
      "outputs": []
    },
    {
      "cell_type": "markdown",
      "metadata": {
        "id": "tH17yrOAGzJt"
      },
      "source": [
        "Como nos muestra la salida del *print* tenemos un espacio de acción de tamaño 6 (seis) y un espacio de estados de tamaño 500. \n",
        "\n",
        "Los 500 estados posibles corresponden a la codificación que incluye: ubicación del taxi, ubicación del pasajero y ubicación destino del pasajero. (ver actividad nro 2))\n",
        "\n",
        "Nuestro algoritmo de aprendizaje por refuerzo (RL) no necesita más que estas dos cosas: el conjunto de acciones posibles y el conjunto de estados posibles. \n",
        "\n",
        "Necesitamos identificar cada estado de forma unívoca, asignándole un número único al estado (un ID) y que el algortimo RL elija algunas de las acciones posibles a tomar, que están etiquetadas desde el 0 cero al 5 cinco, donde:\n",
        "\n",
        "\n",
        "* 0 = sur\n",
        "* 1 = nore\n",
        "* 2 = este\n",
        "* 3 = oeste\n",
        "* 4 = *pickup* o recoger pasajero\n",
        "* 5 = *dropoff* o dejar en su destino al pasajero\n"
      ]
    },
    {
      "cell_type": "markdown",
      "metadata": {
        "id": "FhkcKjSdAPM-"
      },
      "source": [
        "En cada unidad de tiempo discreta de nuestro simulador, según una acción ejecutada sobre el ambiente, el mismo regresa los siguientes elementos:"
      ]
    },
    {
      "cell_type": "code",
      "metadata": {
        "id": "b6JrgiRbAKvQ"
      },
      "source": [
        "env.step(3)"
      ],
      "execution_count": null,
      "outputs": []
    },
    {
      "cell_type": "markdown",
      "metadata": {
        "id": "GjKeUoTZAdyZ"
      },
      "source": [
        "* **Observación**  (objecto): el estado del ambiente o un objeto específico del ambiente que representa la observación del mismo.\n",
        "* **Recompensa** o Reward (float): es la recompensa alcanzada por la acción previa.\n",
        "\n",
        "* **Done** (boolean): si es momento de \"resetear el ambiente\". La mayoría de las tareas en varios ambientes si el valor done = True indica que el episodio ha terminado (perdiste una vida en un video juego, por ejemplo) o se alcanzó un objetivo (dejamos pasajero en su destino, para este ejemplo).\n",
        "* **Info** (dict): podemos ignorar este atributo, brinda información de diagnóstico para debugging. No hay que usar nada de esto para aprendizaje/entrenamiento.\n",
        "\n",
        "#### [ACTIVIDAD] Detalle cuáles son los valores de recompensa para este problema\n",
        "\n",
        "Vea la [info del entorno](https://gym.openai.com/envs/Taxi-v2/)"
      ]
    },
    {
      "cell_type": "markdown",
      "metadata": {
        "id": "VCia6KknK-6p"
      },
      "source": [
        "RESPUESTA\n",
        "\n",
        "Se otorga una recompensa de 20 puntos cada vez que deja a un pasajero en la ubicacion correcta (dropoff).\n",
        "Se otorga una penalización de 1 punto por cada paso que hace para dejar un pasajero, y una penalizacion de 10 puntos por cada accion de pickup o dropoff invalida. "
      ]
    },
    {
      "cell_type": "markdown",
      "metadata": {
        "id": "UZq-Lh8OLDJG"
      },
      "source": [
        "Veamos como está codificado el estado y el ambiente del Taxi."
      ]
    },
    {
      "cell_type": "code",
      "metadata": {
        "id": "tNFzJtaxHfS9"
      },
      "source": [
        "state = env.encode(3, 1, 1, 0) # (fila de posición del taxi, columna de posición del taxi, índice del pasajero, índice del destino)\n",
        "print(\"State:\", state)\n",
        "\n",
        "env.s = state\n",
        "env.render()"
      ],
      "execution_count": null,
      "outputs": []
    },
    {
      "cell_type": "markdown",
      "metadata": {
        "id": "tbwlNWkAHulC"
      },
      "source": [
        "#### **[ACTIVIDAD]** Modifique la primer línea del siguiente script para ver dónde es la posición (3,4) del mapa y la (0,0)\n"
      ]
    },
    {
      "cell_type": "code",
      "metadata": {
        "id": "oxVAWT4BH4VH"
      },
      "source": [
        "# posición dle taxi en 0,0\n",
        "state = env.encode(0, 0, 2, 0) # (taxi row, taxi column, passenger index, destination index)\n",
        "print(\"State:\", state) # muestra el número de estado, una codificación.\n",
        "\n",
        "env.s = state\n",
        "env.render() # nos muestra una representación gráfica del estado."
      ],
      "execution_count": null,
      "outputs": []
    },
    {
      "cell_type": "code",
      "metadata": {
        "id": "XOCJIxeb4bLk"
      },
      "source": [
        "# posición del taxi en 3,4 (es decir cuarta fila y quinta columna, ya que empieza en 0,0 )\n",
        "\n",
        "state = env.encode(3, 4, 2, 0) # (taxi row, taxi column, passenger index, destination index)\n",
        "print(\"State:\", state) # muestra el número de estado, una codificación.\n",
        "\n",
        "env.s = state\n",
        "env.render() # nos muestra una representación gráfica del estado."
      ],
      "execution_count": null,
      "outputs": []
    },
    {
      "cell_type": "markdown",
      "metadata": {
        "id": "30iqoY9mCC54"
      },
      "source": [
        "**[ACTIVIDAD]** Modifique el siguiente script, verifique cuáles son los valores posibles de los índices de pasajero y destino. ¿Qué representan.?"
      ]
    },
    {
      "cell_type": "code",
      "metadata": {
        "id": "WgnnB4XTB_-x"
      },
      "source": [
        "state = env.encode(1, 1, 0, 3)# (fila de posición del taxi, columna de posición del taxi, índice del pasajero, índice del destino)\n",
        "print(\"State:\", state)\n",
        "env.s = state\n",
        "env.render()"
      ],
      "execution_count": null,
      "outputs": []
    },
    {
      "cell_type": "markdown",
      "metadata": {
        "id": "3wxrPpYc7Puq"
      },
      "source": [
        "Los valores del indice de pasajero pueden tomar un valor den 0 al 4, que indica cada una de las 5 posiciones en las que puede estar el pasajero, que son R,G,Y,B y arriba del taxi.\n",
        "El indice destino puede tomar un valor del 0 al 3, donde 0 = R, 1 = G,  2= Y, 3= B\n",
        "por lo tanto se indica el destino del pasajero "
      ]
    },
    {
      "cell_type": "markdown",
      "metadata": {
        "id": "vevUF5vNKUEl"
      },
      "source": [
        "## Comportamiento del agente aleatorio (random search)\n",
        "\n",
        "Ejecute el siguiente bloque de código"
      ]
    },
    {
      "cell_type": "code",
      "metadata": {
        "id": "EA-l1zcTCaLr"
      },
      "source": [
        "env.s = 329  # estado desde el cual arranca. "
      ],
      "execution_count": null,
      "outputs": []
    },
    {
      "cell_type": "markdown",
      "metadata": {
        "id": "rxSfpsoTCci-"
      },
      "source": [
        "#### **[ACTIVIDAD]**  Visualice el estado. Reutilice código anterior."
      ]
    },
    {
      "cell_type": "code",
      "metadata": {
        "id": "ybjTfwxvCn2h"
      },
      "source": [
        "# coloque aquí el código y ejecute\n",
        "env.render()"
      ],
      "execution_count": null,
      "outputs": []
    },
    {
      "cell_type": "markdown",
      "metadata": {
        "id": "_I_6jFrrCx6p"
      },
      "source": [
        "Inicializamos variables\n"
      ]
    },
    {
      "cell_type": "code",
      "metadata": {
        "id": "WB28nmFaCz_1"
      },
      "source": [
        "epochs = 0 # contador de iteraciones\n",
        "penalties, reward = 0, 0 # penalidades y recompensas\n",
        "frames = [] # para la animación \n",
        "rewards = [] # guardamos la recompensa obtenida por cada acción\n",
        "done = False"
      ],
      "execution_count": null,
      "outputs": []
    },
    {
      "cell_type": "markdown",
      "metadata": {
        "id": "u_EDLG-KJD5T"
      },
      "source": [
        "El siguiente código muestra la ejecución de un agente de búsqueda aleatoria.\n",
        "\n",
        "\n"
      ]
    },
    {
      "cell_type": "code",
      "metadata": {
        "id": "iFNhosdWKUOx"
      },
      "source": [
        "# mientras no llegue al objetivo\n",
        "while not done:\n",
        "    action = env.action_space.sample() # elige la próxima acción de forma aleatoria\n",
        "    state, reward, done, info = env.step(action) # se ejecuta la acción sobre el ambiente\n",
        "\n",
        "    if reward == -10:  # si lo penalizan, suma una penalización.\n",
        "        penalties += 1\n",
        "    \n",
        "    rewards.append({'epoch':epochs,'reward':reward}) #guarda el nro de iteración y valor de recompensa obtenida.\n",
        "    \n",
        "    # Guarda información de cada frame en un diccionario, para posterior animación\n",
        "    frames.append({\n",
        "        'frame': env.render(mode='ansi'),\n",
        "        'state': state,\n",
        "        'action': action,\n",
        "        'reward': reward\n",
        "        }\n",
        "    )\n",
        "\n",
        "    epochs += 1 # incrementa número de iteración\n",
        "    \n",
        "    \n",
        "print(\"Cuantos pasos o epochs o time-steps corrió: {}\".format(epochs))\n",
        "print(\"Penalidades (cuántas veces fue penalizado): {}\".format(penalties))"
      ],
      "execution_count": null,
      "outputs": []
    },
    {
      "cell_type": "markdown",
      "metadata": {
        "id": "RK19YF_dYPLl"
      },
      "source": [
        "A continuación visualizamos esas recompensas otorgadas por cada episodio de ejecución del agente."
      ]
    },
    {
      "cell_type": "code",
      "metadata": {
        "id": "40tuakahWrmD"
      },
      "source": [
        "df = pd.DataFrame(rewards)\n",
        "\n",
        "plt.plot(df['reward'])\n",
        "# agregue título al gráfico\n",
        "plt.title(\"Recompensa otorgadada en cada paso\")\n",
        "# agregue etiqueta al eje x y al eje y\n",
        "plt.xlabel(\"Paso\")\n",
        "plt.ylabel(\"Recompensa\")\n"
      ],
      "execution_count": null,
      "outputs": []
    },
    {
      "cell_type": "markdown",
      "metadata": {
        "id": "K1oXrx7ILvTC"
      },
      "source": [
        "#### **[ACTIVIDAD]** \n",
        "\n",
        "Agregue título al gráfico anterior y etiqueta a los ejes x e y usando las funciones de matplotlib usando las funciones \n",
        "\n",
        "* xlabel(\"Nombre del eje x\")\n",
        "* ylabel(\"Nombre del eje y\")\n",
        "* title(\"Título del gráfico\")\n"
      ]
    },
    {
      "cell_type": "markdown",
      "metadata": {
        "id": "jMdFtWWiX1q-"
      },
      "source": [
        "El siguiente gráfico muestra la suma acumulada de las recompensas a través del tiempo. Observamos claramente una tendencia negativa, pues el agente ha sido penalizado (recompensa negativa) la mayor parte del tiempo."
      ]
    },
    {
      "cell_type": "code",
      "metadata": {
        "id": "HlHSkXH3XzT0",
        "outputId": "c81f9a9d-70ca-4253-bd13-4de59b0661e9",
        "colab": {
          "base_uri": "https://localhost:8080/",
          "height": 286
        }
      },
      "source": [
        "plt.plot(df['reward'].cumsum())"
      ],
      "execution_count": null,
      "outputs": [
        {
          "output_type": "execute_result",
          "data": {
            "text/plain": [
              "[<matplotlib.lines.Line2D at 0x7f82dc0384e0>]"
            ]
          },
          "metadata": {
            "tags": []
          },
          "execution_count": 15
        },
        {
          "output_type": "display_data",
          "data": {
            "image/png": "[encoded data removed]",
            "text/plain": [
              "<Figure size 432x288 with 1 Axes>"
            ]
          },
          "metadata": {
            "tags": []
          }
        }
      ]
    },
    {
      "cell_type": "markdown",
      "metadata": {
        "id": "3GIOONAXKbX7"
      },
      "source": [
        "Ejecute el siguiente bloque para observar las acciones del agente y el ambiente"
      ]
    },
    {
      "cell_type": "code",
      "metadata": {
        "id": "Db2559BuKYXO"
      },
      "source": [
        "from IPython.display import clear_output\n",
        "from time import sleep\n",
        "\n",
        "# función print_frames\n",
        "def print_frames(frames):\n",
        "    for i, frame in enumerate(frames):\n",
        "        clear_output(wait=True)\n",
        "        print(frame['frame'].getvalue())\n",
        "        print(f\"Timestep: {i + 1}\")\n",
        "        print(f\"State: {frame['state']}\")\n",
        "        print(f\"Action: {frame['action']}\")\n",
        "        print(f\"Reward: {frame['reward']}\")\n",
        "        sleep(.1)\n",
        "        \n",
        "# print_frames(frames) # descomente para llamar a la función print_frames o utilice un bloque de código aparte."
      ],
      "execution_count": null,
      "outputs": []
    },
    {
      "cell_type": "markdown",
      "metadata": {
        "id": "GKLfPCBWU5d3"
      },
      "source": [
        "Para nada bueno el desempeño del agente. A nuestro agente aleatorio le toma miles de *timesteps* o *epochs* cometiendo muchas acciones erróneas (es penalizado muchas veces) para tan sólo acercar a un pasajero al destino.\n",
        "\n"
      ]
    },
    {
      "cell_type": "markdown",
      "metadata": {
        "id": "rKBmnzlKYeDU"
      },
      "source": [
        "## Aprendizaje por refuerzo con Q-learning\n",
        "\n"
      ]
    },
    {
      "cell_type": "markdown",
      "metadata": {
        "id": "XAlHkzlJYzbr"
      },
      "source": [
        "Inicializamos tabla Q con ceros."
      ]
    },
    {
      "cell_type": "code",
      "metadata": {
        "id": "2ZEIB3CqYyge"
      },
      "source": [
        "import numpy as np\n",
        "q_table = np.zeros([env.observation_space.n, env.action_space.n])"
      ],
      "execution_count": null,
      "outputs": []
    },
    {
      "cell_type": "markdown",
      "metadata": {
        "id": "DfCkfn5DNs2z"
      },
      "source": [
        "Entrenamos al agente, es decir, *completamos* la tabla Q con valores que se ajusten a una política.\n",
        "\n",
        "**Hiperparámetros**"
      ]
    },
    {
      "cell_type": "markdown",
      "metadata": {
        "id": "hpMTpELTYOFI"
      },
      "source": [
        "$\\alpha$ es el coeficiente de aprendizaje en Q-learning, página 873 del libro\n",
        "\n",
        "$\\gamma$ el factor de descuento \n",
        "\n",
        "$\\epsilon$ ¿para qué usamos este coeficiente en el código.\n",
        "\n",
        "\n",
        "\n"
      ]
    },
    {
      "cell_type": "markdown",
      "metadata": {
        "id": "Sir29BebYu7U"
      },
      "source": [
        "Observe las líneas 24 a la 27 y responda la actividad 2) \n"
      ]
    },
    {
      "cell_type": "markdown",
      "metadata": {
        "id": "kpcJrkfcJuMe"
      },
      "source": [
        "## [Algoritmo Q-Learning](https://es.wikipedia.org/wiki/Q-learning)\n",
        "\n",
        "![alt](https://wikimedia.org/api/rest_v1/media/math/render/svg/59db58edf1222b292e40706e503ed5974553606b)"
      ]
    },
    {
      "cell_type": "code",
      "metadata": {
        "id": "juiuys_cYnmC",
        "outputId": "9146cc86-ea91-4520-b3c6-1bba4ad43df9",
        "colab": {
          "base_uri": "https://localhost:8080/",
          "height": 104
        }
      },
      "source": [
        "%%time\n",
        "\"\"\"Entrenando el agente\"\"\"\n",
        "\n",
        "import random\n",
        "from IPython.display import clear_output\n",
        "\n",
        "# Hiperparámetros\n",
        "alpha = 0.1 # tasa de aprendizaje en Q-learning\n",
        "gamma = 0.6 # factor de descuento gamma,\n",
        "epsilon = 0.1 # probabilidad \n",
        "max_iter = 10000 #100001\n",
        "# para graficar métricas\n",
        "all_epochs = []\n",
        "all_penalties = []\n",
        "rewards = []\n",
        "\n",
        "for i in range(1, max_iter):\n",
        "    state = env.reset()\n",
        "\n",
        "    epochs, penalties, reward, = 0, 0, 0\n",
        "    done = False\n",
        "    \n",
        "    while not done:\n",
        "        if random.uniform(0, 1) < epsilon:\n",
        "            action = env.action_space.sample() \n",
        "        else:\n",
        "            action = np.argmax(q_table[state]) \n",
        "\n",
        "        next_state, reward, done, info = env.step(action) \n",
        "        \n",
        "        old_value = q_table[state, action]\n",
        "        \n",
        "        next_max = np.max(q_table[next_state])\n",
        "        \n",
        "        #new_value =  old_value + alpha * (old_value- reward - gamma * next_max)\n",
        "        new_value = (1 - alpha) * old_value + alpha * (reward + gamma * next_max)\n",
        "        \n",
        "        q_table[state, action] = new_value\n",
        "\n",
        "        if reward == -10:\n",
        "            penalties += 1\n",
        "            \n",
        "        rewards.append({'epoch':epochs,'reward':reward})\n",
        "        \n",
        "        state = next_state\n",
        "        epochs += 1\n",
        "        \n",
        "    if i % 100 == 0:\n",
        "        clear_output(wait=True)\n",
        "        print(f\"Episode: {i}\")\n",
        "\n",
        "print(\"Training finished.\\n\")"
      ],
      "execution_count": null,
      "outputs": [
        {
          "output_type": "stream",
          "text": [
            "Episode: 9900\n",
            "Training finished.\n",
            "\n",
            "CPU times: user 4.87 s, sys: 259 ms, total: 5.12 s\n",
            "Wall time: 5.01 s\n"
          ],
          "name": "stdout"
        }
      ]
    },
    {
      "cell_type": "markdown",
      "metadata": {
        "id": "Wo5pl2TqZDxB"
      },
      "source": [
        "## Evaluemos el agente\n",
        "\n"
      ]
    },
    {
      "cell_type": "markdown",
      "metadata": {
        "id": "MbcCJrK5Nwxd"
      },
      "source": [
        "Dada la tabla Q aprendida, la ponemos a prueba en el ambiente.\n",
        "\n",
        "Política óptima:"
      ]
    },
    {
      "cell_type": "markdown",
      "metadata": {
        "id": "G3Ie8w9TPWFy"
      },
      "source": [
        "$\\pi^{*}(s) = arg max_a Q(s,a)$"
      ]
    },
    {
      "cell_type": "code",
      "metadata": {
        "id": "Y5w5cUe1ZGmu",
        "outputId": "974b9338-ecba-4a0e-c05c-058bf43e4ca1",
        "colab": {
          "base_uri": "https://localhost:8080/",
          "height": 69
        }
      },
      "source": [
        "\n",
        "total_epochs, total_penalties = 0, 0\n",
        "episodes = 5\n",
        "rewards3 = []\n",
        "frames = [] # para la animación\n",
        "\n",
        "for _ in range(episodes):\n",
        "    state = env.reset()\n",
        "    epochs, penalties, reward = 0, 0, 0\n",
        "    \n",
        "    done = False\n",
        "    \n",
        "    while not done: # mientras el taxi no llegue a destino.\n",
        "        action = np.argmax(q_table[state])\n",
        "        state, reward, done, info = env.step(action)\n",
        "\n",
        "        if reward == -10:\n",
        "            penalties += 1\n",
        "\n",
        "        epochs += 1\n",
        "        rewards3.append({'epoch':epochs,'reward':reward})\n",
        "        \n",
        "        # frames para animacion\n",
        "        frames.append({\n",
        "            'frame': env.render(mode='ansi'),\n",
        "            'state': state,\n",
        "            'action': action,\n",
        "            'reward': reward\n",
        "            }\n",
        "        )\n",
        "\n",
        "    total_penalties += penalties\n",
        "    total_epochs += epochs\n",
        "\n",
        "print(f\"Resultados luego de  {episodes} episodios:\")\n",
        "print(f\"Promedio de timestemps o iteraciones por episodio: {total_epochs / episodes}\")\n",
        "print(f\"Promedio de penalidades por episodio: {total_penalties / episodes}\")"
      ],
      "execution_count": null,
      "outputs": [
        {
          "output_type": "stream",
          "text": [
            "Resultados luego de  5 episodios:\n",
            "Promedio de timestemps o iteraciones por episodio: 13.2\n",
            "Promedio de penalidades por episodio: 0.0\n"
          ],
          "name": "stdout"
        }
      ]
    },
    {
      "cell_type": "markdown",
      "metadata": {
        "id": "wdvp2VEVOKpt"
      },
      "source": [
        "Ejecute el siguiente bloque de código si desea visualizar las acciones ejecutadas por el agente. \n",
        "**Nota**: puede demorar un poco.\n"
      ]
    },
    {
      "cell_type": "code",
      "metadata": {
        "id": "k_h5EkUFbTCg"
      },
      "source": [
        "# print_frames(frames)"
      ],
      "execution_count": null,
      "outputs": []
    },
    {
      "cell_type": "markdown",
      "metadata": {
        "id": "nuqzK4T1i9n6"
      },
      "source": [
        "#### [ACTIVIDAD] Grafique la suma acumulada de recompensas a través del tiempo (epochs)"
      ]
    },
    {
      "cell_type": "code",
      "metadata": {
        "id": "vf1dyP3lesyc",
        "outputId": "787ef51c-bb0f-495d-9aa5-1f5e963c8dc0",
        "colab": {
          "base_uri": "https://localhost:8080/",
          "height": 312
        }
      },
      "source": [
        "df = pd.DataFrame(rewards3)\n",
        "\n",
        "plt.plot(df['reward'])\n",
        "# agregue título al gráfico\n",
        "plt.title(\"Recompensa otorgadada en cada paso\")\n",
        "# agregue etiqueta al eje x y al eje y\n",
        "plt.xlabel(\"Paso\")\n",
        "plt.ylabel(\"Recompensa\")"
      ],
      "execution_count": null,
      "outputs": [
        {
          "output_type": "execute_result",
          "data": {
            "text/plain": [
              "Text(0, 0.5, 'Recompensa')"
            ]
          },
          "metadata": {
            "tags": []
          },
          "execution_count": 21
        },
        {
          "output_type": "display_data",
          "data": {
            "image/png": "[encoded data removed]",
            "text/plain": [
              "<Figure size 432x288 with 1 Axes>"
            ]
          },
          "metadata": {
            "tags": []
          }
        }
      ]
    },
    {
      "cell_type": "code",
      "metadata": {
        "id": "10C6PJuxZme4",
        "outputId": "fb661fa6-bb4f-45eb-9e53-1e792c36d20e",
        "colab": {
          "base_uri": "https://localhost:8080/",
          "height": 286
        }
      },
      "source": [
        "plt.plot(df['reward'].cumsum())"
      ],
      "execution_count": null,
      "outputs": [
        {
          "output_type": "execute_result",
          "data": {
            "text/plain": [
              "[<matplotlib.lines.Line2D at 0x7f8342f1b6d8>]"
            ]
          },
          "metadata": {
            "tags": []
          },
          "execution_count": 22
        },
        {
          "output_type": "display_data",
          "data": {
            "image/png": "[encoded data removed]",
            "text/plain": [
              "<Figure size 432x288 with 1 Axes>"
            ]
          },
          "metadata": {
            "tags": []
          }
        }
      ]
    },
    {
      "cell_type": "markdown",
      "metadata": {
        "id": "R9z4EaagMalz"
      },
      "source": [
        "# ACTIVIDADES\n",
        "\n",
        "## 1) Explique, detalle, como se calcula los 500 estados posibles del problema del *Taxi*. Desglose cada término y valor implicado."
      ]
    },
    {
      "cell_type": "markdown",
      "metadata": {
        "id": "dnsoHwiLNOhj"
      },
      "source": [
        "**ESCRIBA AQUI SU RESPUESTA A LA CONSIGNA**\n",
        "\n",
        "Existen 500 estados que es el resultado de multiplicar 5 filas * 5 columnas * 5 posiciones de la persona * 4 destinos posibles. \n",
        "\n",
        "Cada estado se calcula de la siguiente manera: \n",
        "\n",
        "\n",
        "def encode(self, taxi_row, taxi_col, pass_loc, dest_idx):\n",
        "\n",
        "        # (5) 5, 5, 4\n",
        "        i = taxi_row\n",
        "        i *= 5\n",
        "        i += taxi_col\n",
        "        i *= 5\n",
        "        i += pass_loc\n",
        "        i *= 4\n",
        "        i += dest_idx\n",
        "        return i\n",
        "        \n",
        " Taxi row y col son las representan la fila y columna (del 0 al 4) en las que puede estar ubicado el taxi. \n",
        " pass_loc es la ubicacion donde se encuentra el pasajero, son 4 los posibles valores que toma (del 0 al 4)\n",
        " dest_idx es la ubicacion de destino a la que quiere ir el pasajero, tambien toma un valor del 0 al 3. \n",
        " \n",
        "\n",
        "\n"
      ]
    },
    {
      "cell_type": "markdown",
      "metadata": {
        "id": "i7-k4damZBdY"
      },
      "source": [
        "## 2) En el código de Q-learning presentado. \n",
        "\n",
        "2.1 Explique que hace las líneas de código entre 24 -27 . Pista: explorar vs explotar.\n",
        "\n",
        "\n"
      ]
    },
    {
      "cell_type": "markdown",
      "metadata": {
        "id": "X1eHQ69MZTL5"
      },
      "source": [
        "2.2 ¿Qué pasaría si el valor de $ \\epsilon $ fuera 1?\n",
        "\n"
      ]
    },
    {
      "cell_type": "markdown",
      "metadata": {
        "id": "c_qMqKjGdYcZ"
      },
      "source": [
        "\n",
        "\n",
        "## 3.1) Basado en los resultados anteriores, indique cuál agente funcionó mejor (aleatorio vs Q-learning) y justifique.\n",
        "\n"
      ]
    },
    {
      "cell_type": "markdown",
      "metadata": {
        "id": "mrrwCcEbia2b"
      },
      "source": [
        "**ESCRIBA AQUI SU TEXTO DE RESPUESTA A LA CONSIGNA \n",
        "\n",
        "El funcionamiento con q-learning es mucho mejor que el aleatorio. En el aleatorio se obtienen muchas mas recompensas negativas ya que simplemente elige acciones al azar y eso genera un rendimiento muy pobre.\n",
        "\n",
        "\n",
        "En cambio cuando usamos q-learning en cada episodio se pudo llevar al pasajero a su destino de manera mas eficiente y se obtuvieron recompensas positivas. "
      ]
    },
    {
      "cell_type": "markdown",
      "metadata": {
        "id": "dpYCGU2RV7dV"
      },
      "source": [
        "## 3.2) Compare para este entorno el desempeño y funcionamiento de iteración de valores y políticas vs Q-learning. Utilice código del laboratorio anterior. Escriba sus conclusiones, mientras más completas, mejor."
      ]
    },
    {
      "cell_type": "markdown",
      "metadata": {
        "id": "Yaxj9gr1WSj8"
      },
      "source": [
        "### Iteración de valores"
      ]
    },
    {
      "cell_type": "code",
      "metadata": {
        "id": "nWVxbHVVmLUB"
      },
      "source": [
        "def one_step_lookahead(env, state, V , discount_factor = 0.99):\n",
        "    \"\"\"\n",
        "    Función ayuda o auxiliar para calcular estado-valor \n",
        "    \n",
        "    Arguments:\n",
        "        env: objeto del ambiente openAI GYM \n",
        "        state: estado a considerar\n",
        "        V: valor estimado para cada estado. Vector de longitud nS.\n",
        "        discount_factor: factor de descuento MDP.\n",
        "        \n",
        "    Return:\n",
        "        action_values: Valor esperado por cada acción en un estado. Vector de longitud nA\n",
        "    \"\"\"\n",
        "    \n",
        "    # inicitaliza el vector de valores d acciones\n",
        "    action_values = np.zeros(env.nA)\n",
        "    \n",
        "    # itera sobre las acciones que podemos tomar del ambiente\n",
        "    for action in range(env.nA):\n",
        "        # itera sobre la distribución P_sa (probabilidad estado/acción)\n",
        "        for probablity, next_state, reward, info in env.P[state][action]:\n",
        "             #if we are in state s and take action a. then sum over all the possible states we can land into.\n",
        "            action_values[action] += probablity * (reward + (discount_factor * V[next_state]))\n",
        "            \n",
        "    return action_values"
      ],
      "execution_count": null,
      "outputs": []
    },
    {
      "cell_type": "code",
      "metadata": {
        "id": "oS-cgT9imE_k"
      },
      "source": [
        "def update_policy(env, policy, V, discount_factor):\n",
        "    \n",
        "    \"\"\"\n",
        "    Helper function to update a given policy based on given value function.\n",
        "      \n",
        "    \n",
        "    Arguments:\n",
        "        env: objeto del ambiente openAI GYM \n",
        "        state: estado a considerar\n",
        "        V: valor estimado para cada estado. Vector de longitud nS.\n",
        "        discount_factor: factor de descuento MDP.\n",
        "    Return:\n",
        "        policy: Política actualizada basada en la función estado-Valor o estado-Utilidad 'V'.\n",
        "    \"\"\"\n",
        "    \n",
        "    for state in range(env.nS):\n",
        "        # Dado un estado, computar el valor estado-acción.\n",
        "        action_values = one_step_lookahead(env, state, V, discount_factor)\n",
        "        \n",
        "        # elige una acción que maximice el valor de utilidad de estado-acción.\n",
        "        policy[state] =  np.argmax(action_values)\n",
        "        \n",
        "    return policy"
      ],
      "execution_count": null,
      "outputs": []
    },
    {
      "cell_type": "code",
      "metadata": {
        "id": "quDTbReJtOFY"
      },
      "source": [
        "def value_iteration(env, discount_factor = 0.999, max_iteration = 1000):\n",
        "    \"\"\"\n",
        "    Algorithm to solve MPD.\n",
        "    \n",
        "    Arguments:\n",
        "        env: openAI GYM Enviorment object.\n",
        "        discount_factor: MDP discount factor.\n",
        "        max_iteration: Maximum No.  of iterations to run.\n",
        "        \n",
        "    Return:\n",
        "        V: Optimal state-Value function. Vector of lenth nS.\n",
        "        optimal_policy: Optimal policy. Vector of length nS.\n",
        "    \n",
        "    \"\"\"\n",
        "    # intialize value fucntion\n",
        "    V = np.zeros(env.nS)\n",
        "    \n",
        "    # iterate over max_iterations\n",
        "    for i in range(max_iteration):\n",
        "        \n",
        "        #  keep track of change with previous value function\n",
        "        prev_v = np.copy(V) \n",
        "    \n",
        "        # loop over all states\n",
        "        for state in range(env.nS):\n",
        "            \n",
        "            # Asynchronously update the state-action value\n",
        "            #action_values = one_step_lookahead(env, state, V, discount_factor)\n",
        "            \n",
        "            # Synchronously update the state-action value\n",
        "            action_values = one_step_lookahead(env, state, prev_v, discount_factor)\n",
        "            \n",
        "            # select best action to perform based on highest state-action value\n",
        "            best_action_value = np.max(action_values)\n",
        "            \n",
        "            # update the current state-value fucntion\n",
        "            V[state] =  best_action_value\n",
        "            \n",
        "        # if policy not changed over 10 iterations it converged.\n",
        "        if i % 10 == 0:\n",
        "            # if values of 'V' not changing after one iteration\n",
        "            if (np.all(np.isclose(V, prev_v))):\n",
        "                print('Value converged at iteration %d' %(i+1))\n",
        "                break\n",
        "\n",
        "    # intialize optimal policy\n",
        "    optimal_policy = np.zeros(env.nS, dtype = 'int8')\n",
        "    \n",
        "    # update the optimal polciy according to optimal value function 'V'\n",
        "    optimal_policy = update_policy(env, optimal_policy, V, discount_factor)\n",
        "    \n",
        "    return V, optimal_policy\n"
      ],
      "execution_count": null,
      "outputs": []
    },
    {
      "cell_type": "code",
      "metadata": {
        "id": "QgZQ04HwhzV2"
      },
      "source": [
        "def policy_eval(env, policy, V, discount_factor):\n",
        "    \"\"\"\n",
        "    Helper function to evaluate a policy.\n",
        "    \n",
        "    Arguments:\n",
        "        env: openAI GYM Enviorment object.\n",
        "        policy: policy to evaluate.\n",
        "        V: Estimated Value for each state. Vector of length nS.\n",
        "        discount_factor: MDP discount factor.\n",
        "    Return:\n",
        "        policy_value: Estimated value of each state following a given policy and state-value 'V'. \n",
        "        \n",
        "    \"\"\"\n",
        "    policy_value = np.zeros(env.nS)\n",
        "    for state, action in enumerate(policy):\n",
        "        for probablity, next_state, reward, info in env.P[state][action]:\n",
        "            policy_value[state] += probablity * (reward + (discount_factor * V[next_state]))\n",
        "            \n",
        "    return policy_value"
      ],
      "execution_count": null,
      "outputs": []
    },
    {
      "cell_type": "code",
      "metadata": {
        "id": "irfIzDG0h1Uc"
      },
      "source": [
        "def policy_iteration(env, discount_factor = 0.999, max_iteration = 1000):\n",
        "    \"\"\"\n",
        "    Algorithm to solve MPD.\n",
        "    \n",
        "    Arguments:\n",
        "        env: openAI GYM Enviorment object.\n",
        "        discount_factor: MDP discount factor.\n",
        "        max_iteration: Maximum No.  of iterations to run.\n",
        "        \n",
        "    Return:\n",
        "        V: Optimal state-Value function. Vector of lenth nS.\n",
        "        new_policy: Optimal policy. Vector of length nS.\n",
        "    \n",
        "    \"\"\"\n",
        "    # intialize the state-Value function\n",
        "    V = np.zeros(env.nS)\n",
        "    \n",
        "    # intialize a random policy\n",
        "    policy = np.random.randint(0, 4, env.nS)\n",
        "    policy_prev = np.copy(policy)\n",
        "    \n",
        "    for i in range(max_iteration):\n",
        "        \n",
        "        # evaluate given policy\n",
        "        V = policy_eval(env, policy, V, discount_factor)\n",
        "        \n",
        "        # improve policy\n",
        "        policy = update_policy(env, policy, V, discount_factor)\n",
        "        \n",
        "        # if policy not changed over 10 iterations it converged.\n",
        "        if i % 10 == 0:\n",
        "            if (np.all(np.equal(policy, policy_prev))):\n",
        "                print('policy converged at iteration %d' %(i+1))\n",
        "                break\n",
        "            policy_prev = np.copy(policy)\n",
        "            \n",
        "\n",
        "            \n",
        "    return V, policy"
      ],
      "execution_count": null,
      "outputs": []
    },
    {
      "cell_type": "code",
      "metadata": {
        "id": "UFdO3B9PhfWh"
      },
      "source": [
        "import time"
      ],
      "execution_count": null,
      "outputs": []
    },
    {
      "cell_type": "code",
      "metadata": {
        "id": "YvD1YCrCWTH9",
        "outputId": "7c6ac68b-e36e-44d5-95c8-d2ac8bfd6ceb",
        "colab": {
          "base_uri": "https://localhost:8080/",
          "height": 52
        }
      },
      "source": [
        "env = gym.make(\"Taxi-v2\")\n",
        "tic = time.time()\n",
        "opt_V, opt_Policy = value_iteration(env.env, max_iteration = 1000)\n",
        "toc = time.time()\n",
        "elapsed_time = (toc - tic) * 1000\n",
        "print (f\"Time to converge: {elapsed_time: 0.3} ms\")\n",
        "print('Optimal Value function: ') # Utilidad\n"
      ],
      "execution_count": null,
      "outputs": [
        {
          "output_type": "stream",
          "text": [
            "Time to converge:  6.63e+03 ms\n",
            "Optimal Value function: \n"
          ],
          "name": "stdout"
        }
      ]
    },
    {
      "cell_type": "markdown",
      "metadata": {
        "id": "cGFyIas9jrWD"
      },
      "source": [
        "Inicializamos variables\n"
      ]
    },
    {
      "cell_type": "code",
      "metadata": {
        "id": "fueU6oE9jrWL"
      },
      "source": [
        "epochs = 0 # contador de iteraciones\n",
        "penalties, reward = 0, 0 # penalidades y recompensas\n",
        "frames = [] # para la animación \n",
        "rewards4 = [] # guardamos la recompensa obtenida por cada acción\n",
        "done = False"
      ],
      "execution_count": null,
      "outputs": []
    },
    {
      "cell_type": "markdown",
      "metadata": {
        "id": "kki8mAnbjrWi"
      },
      "source": [
        "El siguiente código muestra la ejecución de un agente de búsqueda aleatoria.\n",
        "\n",
        "\n"
      ]
    },
    {
      "cell_type": "code",
      "metadata": {
        "outputId": "7c5547aa-78fb-4b70-9b61-f631c1813d36",
        "id": "qWpkO2THjrWj",
        "colab": {
          "base_uri": "https://localhost:8080/",
          "height": 52
        }
      },
      "source": [
        "def choose_action(observation):\n",
        "  return opt_Policy[observation] \n",
        "\n",
        "\n",
        "state=env.reset()\n",
        "# mientras no llegue al objetivo\n",
        "while not done:\n",
        "    action = choose_action(state) # elige la próxima acción de forma aleatoria\n",
        "    state, reward, done, info = env.step(action) # se ejecuta la acción sobre el ambiente\n",
        "\n",
        "    if reward == -10:  # si lo penalizan, suma una penalización.\n",
        "        penalties += 1\n",
        "    \n",
        "    rewards4.append({'epoch':epochs,'reward':reward}) #guarda el nro de iteración y valor de recompensa obtenida.\n",
        "    \n",
        "    # Guarda información de cada frame en un diccionario, para posterior animación\n",
        "    frames.append({\n",
        "        'frame': env.render(mode='ansi'),\n",
        "        'state': state,\n",
        "        'action': action,\n",
        "        'reward': reward\n",
        "        }\n",
        "    )\n",
        "\n",
        "    epochs += 1 # incrementa número de iteración\n",
        "    \n",
        "    \n",
        "print(\"Cuantos pasos o epochs o time-steps corrió: {}\".format(epochs))\n",
        "print(\"Penalidades (cuántas veces fue penalizado): {}\".format(penalties))"
      ],
      "execution_count": null,
      "outputs": [
        {
          "output_type": "stream",
          "text": [
            "Cuantos pasos o epochs o time-steps corrió: 12\n",
            "Penalidades (cuántas veces fue penalizado): 0\n"
          ],
          "name": "stdout"
        }
      ]
    },
    {
      "cell_type": "markdown",
      "metadata": {
        "id": "drT__WiRZGG5"
      },
      "source": [
        "Evaluacion de la recompensa en el tiempo de la recompensa"
      ]
    },
    {
      "cell_type": "code",
      "metadata": {
        "id": "YKtg-_rvZGG6",
        "outputId": "669d8769-bfb3-421d-c928-9894adb84987",
        "colab": {
          "base_uri": "https://localhost:8080/",
          "height": 286
        }
      },
      "source": [
        "df = pd.DataFrame(rewards4)\n",
        "# variacion de los valores por cada iteracion\n",
        "plt.plot(df['reward'])\n"
      ],
      "execution_count": null,
      "outputs": [
        {
          "output_type": "execute_result",
          "data": {
            "text/plain": [
              "[<matplotlib.lines.Line2D at 0x7f83494cc630>]"
            ]
          },
          "metadata": {
            "tags": []
          },
          "execution_count": 32
        },
        {
          "output_type": "display_data",
          "data": {
            "image/png": "[encoded data removed]",
            "text/plain": [
              "<Figure size 432x288 with 1 Axes>"
            ]
          },
          "metadata": {
            "tags": []
          }
        }
      ]
    },
    {
      "cell_type": "markdown",
      "metadata": {
        "id": "ldrZbic-ZGG9"
      },
      "source": [
        "Recompensa acumulada"
      ]
    },
    {
      "cell_type": "code",
      "metadata": {
        "id": "EKht65X6ZGG-",
        "outputId": "e1c1418d-fe00-4859-c678-b5df30c8a93b",
        "colab": {
          "base_uri": "https://localhost:8080/",
          "height": 286
        }
      },
      "source": [
        "# recompensa acumulada\n",
        "plt.plot(df['reward'].cumsum())"
      ],
      "execution_count": null,
      "outputs": [
        {
          "output_type": "execute_result",
          "data": {
            "text/plain": [
              "[<matplotlib.lines.Line2D at 0x7f8349536cf8>]"
            ]
          },
          "metadata": {
            "tags": []
          },
          "execution_count": 33
        },
        {
          "output_type": "display_data",
          "data": {
            "image/png": "[encoded data removed]",
            "text/plain": [
              "<Figure size 432x288 with 1 Axes>"
            ]
          },
          "metadata": {
            "tags": []
          }
        }
      ]
    },
    {
      "cell_type": "code",
      "metadata": {
        "outputId": "01a82585-4566-4d12-c63c-16042907a327",
        "id": "Tw5rE4DDnJl_",
        "colab": {
          "base_uri": "https://localhost:8080/",
          "height": 69
        }
      },
      "source": [
        "enviroment2 = gym.make(\"Taxi-v2\")\n",
        "tic = time.time()\n",
        "opt_V2, opt_policy2 = policy_iteration(enviroment2.env, discount_factor = 0.999, max_iteration = 10000)\n",
        "toc = time.time()\n",
        "elapsed_time = (toc - tic) * 1000\n",
        "print (f\"Tiempo para converger: {elapsed_time: 0.3} ms\")\n",
        "print('Función de valores/utilidades óptima: ')"
      ],
      "execution_count": null,
      "outputs": [
        {
          "output_type": "stream",
          "text": [
            "policy converged at iteration 31\n",
            "Tiempo para converger:  1.72e+02 ms\n",
            "Función de valores/utilidades óptima: \n"
          ],
          "name": "stdout"
        }
      ]
    },
    {
      "cell_type": "markdown",
      "metadata": {
        "id": "lB5ed842nJmW"
      },
      "source": [
        "Inicializamos variables\n"
      ]
    },
    {
      "cell_type": "code",
      "metadata": {
        "id": "BaubwiqSnJmY"
      },
      "source": [
        "epochs = 0 # contador de iteraciones\n",
        "penalties, reward = 0, 0 # penalidades y recompensas\n",
        "frames = [] # para la animación \n",
        "rewards4 = [] # guardamos la recompensa obtenida por cada acción\n",
        "done = False"
      ],
      "execution_count": null,
      "outputs": []
    },
    {
      "cell_type": "markdown",
      "metadata": {
        "id": "iDqRccu9nJme"
      },
      "source": [
        "El siguiente código muestra la ejecución de un agente de búsqueda aleatoria.\n",
        "\n",
        "\n"
      ]
    },
    {
      "cell_type": "code",
      "metadata": {
        "outputId": "e47ebee1-d7be-46c5-d68e-f3f99dd4ad30",
        "id": "MZLOOnDZnJmf",
        "colab": {
          "base_uri": "https://localhost:8080/",
          "height": 52
        }
      },
      "source": [
        "def choose_action(observation):\n",
        "  return opt_policy2[observation] \n",
        "\n",
        "\n",
        "state=enviroment2.reset()\n",
        "# mientras no llegue al objetivo\n",
        "while not done:\n",
        "    action = choose_action(state) # elige la próxima acción de forma aleatoria\n",
        "    state, reward, done, info = env.step(action) # se ejecuta la acción sobre el ambiente\n",
        "\n",
        "    if reward == -10:  # si lo penalizan, suma una penalización.\n",
        "        penalties += 1\n",
        "    \n",
        "    rewards4.append({'epoch':epochs,'reward':reward}) #guarda el nro de iteración y valor de recompensa obtenida.\n",
        "    \n",
        "    # Guarda información de cada frame en un diccionario, para posterior animación\n",
        "    frames.append({\n",
        "        'frame': env.render(mode='ansi'),\n",
        "        'state': state,\n",
        "        'action': action,\n",
        "        'reward': reward\n",
        "        }\n",
        "    )\n",
        "\n",
        "    epochs += 1 # incrementa número de iteración\n",
        "    \n",
        "    \n",
        "print(\"Cuantos pasos o epochs o time-steps corrió: {}\".format(epochs))\n",
        "print(\"Penalidades (cuántas veces fue penalizado): {}\".format(penalties))"
      ],
      "execution_count": null,
      "outputs": [
        {
          "output_type": "stream",
          "text": [
            "Cuantos pasos o epochs o time-steps corrió: 4\n",
            "Penalidades (cuántas veces fue penalizado): 0\n"
          ],
          "name": "stdout"
        }
      ]
    },
    {
      "cell_type": "markdown",
      "metadata": {
        "id": "bk_p9_8tnJmi"
      },
      "source": [
        "Evaluacion de la recompensa en el tiempo de la recompensa"
      ]
    },
    {
      "cell_type": "code",
      "metadata": {
        "outputId": "53dcfaeb-4f38-4c1f-c300-dca30928c43f",
        "id": "1n1lP3qOnJmj",
        "colab": {
          "base_uri": "https://localhost:8080/",
          "height": 286
        }
      },
      "source": [
        "df = pd.DataFrame(rewards4)\n",
        "# variacion de los valores por cada iteracion\n",
        "plt.plot(df['reward'])\n"
      ],
      "execution_count": null,
      "outputs": [
        {
          "output_type": "execute_result",
          "data": {
            "text/plain": [
              "[<matplotlib.lines.Line2D at 0x7f8342d52438>]"
            ]
          },
          "metadata": {
            "tags": []
          },
          "execution_count": 38
        },
        {
          "output_type": "display_data",
          "data": {
            "image/png": "[encoded data removed]",
            "text/plain": [
              "<Figure size 432x288 with 1 Axes>"
            ]
          },
          "metadata": {
            "tags": []
          }
        }
      ]
    },
    {
      "cell_type": "markdown",
      "metadata": {
        "id": "qLrfSR6enJmm"
      },
      "source": [
        "Recompensa acumulada"
      ]
    },
    {
      "cell_type": "code",
      "metadata": {
        "outputId": "4de6c07e-3eed-4b02-87f5-f453c206dbdf",
        "id": "dckmbsRVnJmn",
        "colab": {
          "base_uri": "https://localhost:8080/",
          "height": 286
        }
      },
      "source": [
        "# recompensa acumulada\n",
        "plt.plot(df['reward'].cumsum())"
      ],
      "execution_count": null,
      "outputs": [
        {
          "output_type": "execute_result",
          "data": {
            "text/plain": [
              "[<matplotlib.lines.Line2D at 0x7f8342d98b38>]"
            ]
          },
          "metadata": {
            "tags": []
          },
          "execution_count": 39
        },
        {
          "output_type": "display_data",
          "data": {
            "image/png": "[encoded data removed]",
            "text/plain": [
              "<Figure size 432x288 with 1 Axes>"
            ]
          },
          "metadata": {
            "tags": []
          }
        }
      ]
    },
    {
      "cell_type": "markdown",
      "metadata": {
        "id": "D1vxsZhnn8Y2"
      },
      "source": [
        "### Conclusiones\n",
        "\n",
        "Podemos concluir que el algoritmo de q-learning obtiene muy buenos resultados aunque consume mucho tiempo, y a veces cuando probamos con muchos escenarios, los tiempos de ejecución son muy altos y no llega a una solución rapidamente. Los algoritmos de iteración de valores mostraron un buen rendimiento y eficiencia, pero el de iteración de politicas requirio menos tiempo y pasos para llegar al objetivo. "
      ]
    },
    {
      "cell_type": "markdown",
      "metadata": {
        "id": "WmOmPFlqiU_u"
      },
      "source": [
        "## [ OPCIONAL ] 4) Búsqueda en grilla\n",
        "\n",
        "Realice una búsqueda en grilla para determinar los mejores valores para alpha, gamma y epsilon, entre los valores siguientes valores.\n",
        "\n",
        "\n",
        "Valores de alpha a considerar: {0.1, 0.3 ,0.6}\n",
        "\n",
        "Valores de gamma a considerar:  {0.1,0.5, 0.9}\n",
        "\n",
        "Valores de epsilon a considerar: {0.1,0.5, 0.9}\n",
        "\n",
        "\n",
        "* Cree el script para ejecutar este experimento.\n",
        "\n",
        "* Determine los valores de rendimiento a guardar de cada experimento (recompensa promedio, penalización promedio, etc)\n",
        "\n",
        "* Utilice la cantidad de bloques de código y texto que crea necesarios\n",
        "\n"
      ]
    },
    {
      "cell_type": "markdown",
      "metadata": {
        "id": "fvkx0OtGSuSh"
      },
      "source": []
    },
    {
      "cell_type": "markdown",
      "metadata": {
        "id": "_sweAdIcVLuR"
      },
      "source": [
        "# Referencias\n",
        "\n",
        "Este laboratorio fue inspirado gracias a las siguientes referencias:\n",
        "\n",
        "* Open AI Gym (https://gym.openai.com/)\n",
        "* Taxi environment in Open AI Gym \n",
        " * https://gym.openai.com/envs/Taxi-v2/\n",
        " * https://github.com/openai/gym/blob/master/gym/envs/toy_text/taxi.py\n",
        "* Q-learning from scratch https://www.learndatasci.com/tutorials/reinforcement-q-learning-scratch-python-openai-gym/\n",
        "* Q-learning, wikipedia https://es.wikipedia.org/wiki/Q-learning\n",
        "\n"
      ]
    }
  ]
}