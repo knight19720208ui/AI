{
  "nbformat": 4,
  "nbformat_minor": 0,
  "metadata": {
    "colab": {
      "provenance": [],
      "authorship_tag": "ABX9TyP/jqC2iUlTszYwDgAtRQDW",
      "include_colab_link": true
    },
    "kernelspec": {
      "name": "python3",
      "display_name": "Python 3"
    },
    "language_info": {
      "name": "python"
    }
  },
  "cells": [
    {
      "cell_type": "markdown",
      "metadata": {
        "id": "view-in-github",
        "colab_type": "text"
      },
      "source": [
        "<a href=\"https://colab.research.google.com/github/knight19720208ui/AI/blob/main/Guias%20con%20K.ipynb\" target=\"_parent\"><img src=\"https://colab.research.google.com/assets/colab-badge.svg\" alt=\"Open In Colab\"/></a>"
      ]
    },
    {
      "cell_type": "code",
      "execution_count": null,
      "metadata": {
        "id": "B3-pVklRhkV9"
      },
      "outputs": [],
      "source": [
        "https://www.ellaberintodefalken.com/2019/02/clasificacion-con-k-nearest-neighbors.html"
      ]
    },
    {
      "cell_type": "code",
      "source": [
        "https://www.themachinelearners.com/k-means/"
      ],
      "metadata": {
        "id": "0X5GYFTmlbfN"
      },
      "execution_count": null,
      "outputs": []
    }
  ]
}