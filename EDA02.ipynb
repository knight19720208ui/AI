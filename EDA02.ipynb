{
  "nbformat": 4,
  "nbformat_minor": 0,
  "metadata": {
    "colab": {
      "provenance": [],
      "authorship_tag": "ABX9TyPM4gSbbl0+fjwVBKjbktVP",
      "include_colab_link": true
    },
    "kernelspec": {
      "name": "python3",
      "display_name": "Python 3"
    },
    "language_info": {
      "name": "python"
    }
  },
  "cells": [
    {
      "cell_type": "markdown",
      "metadata": {
        "id": "view-in-github",
        "colab_type": "text"
      },
      "source": [
        "<a href=\"https://colab.research.google.com/github/knight19720208ui/AI/blob/main/EDA02.ipynb\" target=\"_parent\"><img src=\"https://colab.research.google.com/assets/colab-badge.svg\" alt=\"Open In Colab\"/></a>"
      ]
    },
    {
      "cell_type": "code",
      "execution_count": null,
      "metadata": {
        "id": "HbwS0QYSPO1r"
      },
      "outputs": [],
      "source": [
        "'''\n",
        "Chequear: \n",
        "https://rafneta.github.io/CienciaDatosPythonCIDE/Laboratorios/Lab11/EDA.html\n",
        "https://raw.githubusercontent.com/Kaushik-Varma/Marketing_Data_Analysis/master/Marketing_Analysis.csv\n",
        "\n",
        "\n",
        "https://es.linkedin.com/pulse/an%C3%A1lisis-exploratorio-de-datos-con-python-exportaci%C3%B3n-rodas-alarcon\n",
        "\n",
        "https://casaeduca.wordpress.com/category/aed-ejercicios-resueltos/\n",
        "\n",
        "\n",
        "https://towardsdatascience.com/a-starter-pack-to-exploratory-data-analysis-with-python-pandas-seaborn-and-scikit-learn-a77889485baf\n",
        "https://github.com/vin725k/EDA-with-Pandas-Numpy-and-Python/blob/master/earthquake%20data%20analysis.ipynb\n",
        "https://github.com/MartinThoma/edapy\n",
        "https://github.com/notha99y/EDA\n",
        "https://github.com/code4kunal/eda-with-python/blob/master/EDA-%20Descriptive%20Analysis.ipynb\n",
        "\n",
        "https://filadd.com/doc/aed-guia-de-ejercicios-25-2020-1-pdf-algoritmo-y\n",
        "'''"
      ]
    }
  ]
}