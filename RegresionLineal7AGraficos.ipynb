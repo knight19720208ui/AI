{
  "nbformat": 4,
  "nbformat_minor": 0,
  "metadata": {
    "colab": {
      "provenance": [],
      "authorship_tag": "ABX9TyM0vl3qz+ie+DAuI+1zlvou",
      "include_colab_link": true
    },
    "kernelspec": {
      "name": "python3",
      "display_name": "Python 3"
    },
    "language_info": {
      "name": "python"
    }
  },
  "cells": [
    {
      "cell_type": "markdown",
      "metadata": {
        "id": "view-in-github",
        "colab_type": "text"
      },
      "source": [
        "<a href=\"https://colab.research.google.com/github/knight19720208ui/AI/blob/main/RegresionLineal7AGraficos.ipynb\" target=\"_parent\"><img src=\"https://colab.research.google.com/assets/colab-badge.svg\" alt=\"Open In Colab\"/></a>"
      ]
    },
    {
      "cell_type": "code",
      "execution_count": 1,
      "metadata": {
        "colab": {
          "base_uri": "https://localhost:8080/",
          "height": 281
        },
        "id": "2ljC015FUUAq",
        "outputId": "9a750193-23af-427b-8d7c-cffe069aaac8"
      },
      "outputs": [
        {
          "output_type": "display_data",
          "data": {
            "text/plain": [
              "<Figure size 432x288 with 1 Axes>"
            ],
            "image/png": "[encoded data removed]"
          },
          "metadata": {
            "needs_background": "light"
          }
        }
      ],
      "source": [
        "import numpy as np\n",
        "import matplotlib.pyplot as plt\n",
        "\n",
        "from sklearn.linear_model import LinearRegression\n",
        "\n",
        "def f(x):\n",
        "    np.random.seed(42)\n",
        "    y= 0.2*x + 2.25 + 0.2*np.random.randn(x.shape[0])\n",
        "    return y\n",
        "\n",
        "x = np.arange(0, 20, 0.5)\n",
        "\n",
        "y = f(x)\n",
        "\n",
        "plt.scatter(x, y, label= 'data', color='blue')\n",
        "plt.title('Datos');\n",
        "    \n"
      ]
    },
    {
      "cell_type": "code",
      "source": [
        "from sklearn.linear_model import LinearRegression\n",
        "\n",
        "objetoRLineal= LinearRegression()\n",
        "objetoRLineal.fit(x.reshape(-1,1),y)\n",
        "                  \n",
        "print('w = '+ str(objetoRLineal.coef_) +\\\n",
        "      ', b ='+str(objetoRLineal.intercept_))\n",
        "\n"
      ],
      "metadata": {
        "colab": {
          "base_uri": "https://localhost:8080/"
        },
        "id": "JZ0tjjBnUceg",
        "outputId": "ca7bd554-5243-46b8-a4e5-7741fba6da21"
      },
      "execution_count": 3,
      "outputs": [
        {
          "output_type": "stream",
          "name": "stdout",
          "text": [
            "w = [0.19183522], b =2.285879252573669\n"
          ]
        }
      ]
    },
    {
      "cell_type": "code",
      "source": [
        "from sklearn.linear_model import LinearRegression\n",
        "import matplotlib.pyplot as plt\n",
        "import numpy as np\n",
        "\n",
        "objetoRLineal= LinearRegression()\n",
        "objetoRLineal.fit( x.reshape(-1,1), y )\n",
        "\n",
        "nuevo_x = np.array([5])\n",
        "\n",
        "prediccion = objetoRLineal.predict(nuevo_x.reshape(-1,1))\n",
        "print(\"Se predice que para un x={} el valor de y \\ debe ser: {}\".format(5,prediccion))\n",
        "\n"
      ],
      "metadata": {
        "colab": {
          "base_uri": "https://localhost:8080/"
        },
        "id": "M-VohvINUzvV",
        "outputId": "4fd48b68-bd87-4725-8ff2-c613ec9f68df"
      },
      "execution_count": 4,
      "outputs": [
        {
          "output_type": "stream",
          "name": "stdout",
          "text": [
            "Se predice que para un x=5 el valor de y \\ debe ser: [3.24505534]\n"
          ]
        }
      ]
    },
    {
      "cell_type": "code",
      "source": [
        "import matplotlib.pyplot as plt\n",
        "import numpy as np\n",
        "\n",
        "r2=objetoRLineal.score(x.reshape(-1,1),y)\n",
        "print(\"Coeficiente de Determinacion R^2= \"+ str(r2))"
      ],
      "metadata": {
        "colab": {
          "base_uri": "https://localhost:8080/"
        },
        "id": "1C3zWW6NVUU2",
        "outputId": "d6b03463-192d-4e3e-e1e3-d40b1c2666d7"
      },
      "execution_count": 5,
      "outputs": [
        {
          "output_type": "stream",
          "name": "stdout",
          "text": [
            "Coeficiente de Determinacion R^2= 0.9736439121020338\n"
          ]
        }
      ]
    }
  ]
}