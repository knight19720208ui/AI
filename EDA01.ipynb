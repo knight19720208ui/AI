{
  "nbformat": 4,
  "nbformat_minor": 0,
  "metadata": {
    "colab": {
      "provenance": [],
      "authorship_tag": "ABX9TyN4I8R40uFeoUlBN68vYsTj",
      "include_colab_link": true
    },
    "kernelspec": {
      "name": "python3",
      "display_name": "Python 3"
    },
    "language_info": {
      "name": "python"
    }
  },
  "cells": [
    {
      "cell_type": "markdown",
      "metadata": {
        "id": "view-in-github",
        "colab_type": "text"
      },
      "source": [
        "<a href=\"https://colab.research.google.com/github/knight19720208ui/AI/blob/main/EDA01.ipynb\" target=\"_parent\"><img src=\"https://colab.research.google.com/assets/colab-badge.svg\" alt=\"Open In Colab\"/></a>"
      ]
    },
    {
      "cell_type": "markdown",
      "source": [
        "## Cálculo de promedios y de valores medios"
      ],
      "metadata": {
        "id": "pxz3FTMwB-60"
      }
    },
    {
      "cell_type": "code",
      "execution_count": 23,
      "metadata": {
        "colab": {
          "base_uri": "https://localhost:8080/"
        },
        "id": "g0un1hNZ_Vo6",
        "outputId": "b813b422-d161-4bbf-ed0e-cbbaa3140e1d"
      },
      "outputs": [
        {
          "output_type": "stream",
          "name": "stdout",
          "text": [
            "31\n"
          ]
        }
      ],
      "source": [
        "'''\n",
        "Media: mean(data)\n",
        "\n",
        "La función mean() devuelve la media aritmética de los datos de una muestra o \n",
        "población. Esta media se calcula sumando todos los valores y después el \n",
        "resultado de la suma se divide entre el número de elementos.\n",
        "'''\n",
        "import statistics as stats\n",
        "\n",
        "edades = [22, 23, 26, 26, 26, 34, 34, 38, 40, 41]\n",
        "print(stats.mean(edades))                    # 31"
      ]
    },
    {
      "cell_type": "code",
      "source": [
        "'''\n",
        "Media armónica: harmonic_mean(data)\n",
        "\n",
        "La función harmonic_mean() -nueva en Python 3.6- devuelve la media armónica (H) \n",
        "de los datos de una muestra o población. La media armónica se corresponde con \n",
        "el recíproco de la media aritmética de los inversos de los datos.\n",
        "Dicho de otro modo, la media armónica de tres valores (x, y, z) será \n",
        "equivalente a 3/(1/x+1/y+1/z). Es un tipo de media apropiada cuando se trabaja \n",
        "con tasas o proporciones en cálculos financieros o que emplean velocidades \n",
        "y tiempos.\n",
        "\n",
        "Si la expresión utilizada no tiene datos o cualquiera de ellos es menor que 0 \n",
        "la función producirá el error StatisticsError.\n",
        "'''\n",
        "edades = [22, 23, 26, 26, 26, 34, 34, 38, 40, 41]\n",
        "print(stats.harmonic_mean(edades))        # 29.52"
      ],
      "metadata": {
        "colab": {
          "base_uri": "https://localhost:8080/"
        },
        "id": "s9SwER-Y_1Ix",
        "outputId": "86b2ee56-cc5d-474d-ebeb-ba8d5a361217"
      },
      "execution_count": 24,
      "outputs": [
        {
          "output_type": "stream",
          "name": "stdout",
          "text": [
            "29.511845929087578\n"
          ]
        }
      ]
    },
    {
      "cell_type": "code",
      "source": [
        "'''\n",
        "Mediana: median(data)\n",
        "\n",
        "La función median() devuelve la mediana o valor medio de los datos. \n",
        "La mediana es el valor central de un grupo de números ordenados por tamaño. \n",
        "Si la cantidad de elementos es par, la mediana es el promedio de los dos \n",
        "números centrales.\n",
        "La función no requiere que la secuencia de números esté ordenada. Si no hay \n",
        "elementos la función retorna el error StatisticsError.\n",
        "'''\n",
        "edades = [22, 23, 26, 26, 26, 34, 34, 38, 40, 41]\n",
        "print(stats.median(edades))                 # 30"
      ],
      "metadata": {
        "colab": {
          "base_uri": "https://localhost:8080/"
        },
        "id": "G_h5JNvzANfQ",
        "outputId": "0dcdb343-2f86-4f09-f135-7699ba6ec9c8"
      },
      "execution_count": 25,
      "outputs": [
        {
          "output_type": "stream",
          "name": "stdout",
          "text": [
            "30.0\n"
          ]
        }
      ]
    },
    {
      "cell_type": "code",
      "source": [
        "'''\n",
        "Mediana baja: median_low(data)\n",
        "\n",
        "La función median_low() devuelve la mediana baja o el valor central inferior \n",
        "de los datos. Este valor siempre será uno del conjunto de los datos. Cuando el \n",
        "número de elementos sea impar devolverá el valor central; y cuando sea par, el \n",
        "menor de los dos valores centrales.\n",
        "Si no hay elementos la función devuelve el error StatisticsError\n",
        "'''\n",
        "edades = [22, 23, 26, 26, 26, 34, 34, 38, 40, 41]\n",
        "print(stats.median_low(edades))              # 26"
      ],
      "metadata": {
        "id": "GIMg0jBWAnYg"
      },
      "execution_count": null,
      "outputs": []
    },
    {
      "cell_type": "code",
      "source": [
        "'''\n",
        "Mediana alta: median_high(data)\n",
        "\n",
        "La función median_high() devuelve la mediana alta o el valor central superior \n",
        "de los datos y siempre será alguno del conjunto de datos. Cuando el número de \n",
        "elementos sea impar la función devolverá el valor central; y cuando sea par, \n",
        "el mayor de los dos valores centrales.\n",
        "Si no hay elementos la función devuelve el error StatisticsError\n",
        "'''\n",
        "edades = [22, 23, 26, 26, 26, 34, 34, 38, 40, 41]\n",
        "print(stats.median_high(edades))             # 34"
      ],
      "metadata": {
        "id": "hgVCan1vA4_-"
      },
      "execution_count": null,
      "outputs": []
    },
    {
      "cell_type": "code",
      "source": [
        "'''\n",
        "Moda: mode(data)\n",
        "\n",
        "La función mode() devuelve el valor más frecuente de los datos.\n",
        "Si no hay elementos la función produce el error StatisticsError\n",
        "\n",
        "'''\n",
        "edades = [22, 23, 26, 26, 26, 34, 34, 38, 40, 41]\n",
        "print(stats.mode(edades))                    # 26"
      ],
      "metadata": {
        "colab": {
          "base_uri": "https://localhost:8080/"
        },
        "id": "MJLwSqiwBAku",
        "outputId": "e5d8490d-a3b5-4396-f35e-f9a103f6df85"
      },
      "execution_count": 26,
      "outputs": [
        {
          "output_type": "stream",
          "name": "stdout",
          "text": [
            "26\n"
          ]
        }
      ]
    },
    {
      "cell_type": "markdown",
      "source": [
        "## Medidas de dispersión"
      ],
      "metadata": {
        "id": "bP6glsNsCG68"
      }
    },
    {
      "cell_type": "code",
      "source": [
        "'''\n",
        "Varianza (población): pvariance(data, mu=None)\n",
        "\n",
        "La función pvariance() devuelve la varianza de una población de datos. \n",
        "Esta función es equivalente a variance() pero se aplica a una población en \n",
        "lugar de a una muestra.\n",
        "La varianza es la media de las diferencias con la media elevadas al cuadrado.\n",
        "En definitiva, la función pvariance() para obtener la varianza primero \n",
        "calcula la media de los elementos:\n",
        "   edades = [22, 23, 26, 26, 26, 34, 34, 38, 40, 41]\n",
        "   media = (22 + 23 + 26 + 26 + 26 + 34 + 34 + 38 + 40 + 41) / 10 = 31\n",
        "A continuación, a cada número se le resta la media obtenida y se eleva al \n",
        "cuadrado. Después, se suman todos los resultados:\n",
        "dif_cuadrado = (22-31)**2 + (23-31)**2 + (26-31)**2 + \n",
        "               (26-31)**2 + (26-31)**2 + (34-31)**2 + \n",
        "               (34-31)**2 + (38-31)**2 + (40-31)**2 + \n",
        "               (41-31)**2 = 468\n",
        "Finalmente, se calcula la media de todas las diferencias al cuadrado:\n",
        "varianza = 468 / 10 = 46.8\n",
        "'''\n",
        "\"\"\"\n",
        "La varianza mide en qué medida se dispersan los valores de una \n",
        "muestra alrededor de un valor central.\n",
        "El argumento **mu** es opcional y si se facilita debe ser la media de los \n",
        "datos de la población. En caso contrario, la función calculará este dato \n",
        "automáticamente.\n",
        "\n",
        "Si no hay elementos o hay menos de dos valores la función producirá el \n",
        "error StatisticsError\n",
        "\"\"\"\n",
        "edades = [22, 23, 26, 26, 26, 34, 34, 38, 40, 41]\n",
        "print(stats.pvariance(edades))             # 46.8"
      ],
      "metadata": {
        "colab": {
          "base_uri": "https://localhost:8080/"
        },
        "id": "OqqBwFBOCI_k",
        "outputId": "ca4f6eec-b87d-494f-8d17-3f299127ef27"
      },
      "execution_count": 27,
      "outputs": [
        {
          "output_type": "stream",
          "name": "stdout",
          "text": [
            "46.8\n"
          ]
        }
      ]
    },
    {
      "cell_type": "code",
      "source": [
        "'''\n",
        "Desviación estándar (población): pstdev(data, mu=None)\n",
        "\n",
        "La función pstdev() devuelve la desviación estándar de una población de datos, \n",
        "que se corresponde con la raíz cuadrada de la varianza de dicha población. \n",
        "Esta función es equivalente a stdev() pero se aplica a una población en lugar \n",
        "de a una muestra.\n",
        "\n",
        "La desviación estándar mide cuánto se separan los datos. Así, para cada valor \n",
        "se tiene una forma de saber si es muy grande, muy pequeño o normal. Permite \n",
        "conocer a qué distancia están los valores de la desviación estándar de la media.\n",
        "\n",
        "El argumento mu es opcional y si se facilita debe ser la media de los datos de \n",
        "la población. En caso contrario, la función lo calculará automáticamente.\n",
        "'''\n",
        "edades = [22, 23, 26, 26, 26, 34, 34, 38, 40, 41]\n",
        "print(stats.pstdev(edades))               # 6.84"
      ],
      "metadata": {
        "colab": {
          "base_uri": "https://localhost:8080/"
        },
        "id": "iBa6LK79CvY7",
        "outputId": "bed1a432-c9a3-4aad-9b21-f1c34801455a"
      },
      "execution_count": 28,
      "outputs": [
        {
          "output_type": "stream",
          "name": "stdout",
          "text": [
            "6.841052550594828\n"
          ]
        }
      ]
    },
    {
      "cell_type": "code",
      "source": [
        "'''\n",
        "Varianza (muestra): variance(data, xbar=None)\n",
        "\n",
        "La función variance() devuelve la varianza de una muestra de datos. \n",
        "La varianza mide en qué medida se dispersan los valores de una muestra \n",
        "alrededor de un valor central.\n",
        "\n",
        "El argumento xbar es opcional y si se facilita debe ser la media de los datos. \n",
        "En caso contrario, la función calculará este dato automáticamente.\n",
        "\n",
        "Para calcular la varianza de una población entera utilizar la función \n",
        "pvariance().\n",
        "\n",
        "Si no hay elementos o hay menos de dos la función producirá \n",
        "el error StatisticsError\n",
        "'''\n",
        "muestra_edades = [22, 23, 26, 26, 34, 38, 40]\n",
        "print(stats.variance(muestra_edades))  # 54.14"
      ],
      "metadata": {
        "colab": {
          "base_uri": "https://localhost:8080/"
        },
        "id": "wT2OgFzMDXDB",
        "outputId": "4bc38da7-a083-43a7-9816-80e10d635f6d"
      },
      "execution_count": 29,
      "outputs": [
        {
          "output_type": "stream",
          "name": "stdout",
          "text": [
            "54.14285714285714\n"
          ]
        }
      ]
    },
    {
      "cell_type": "code",
      "source": [
        "'''\n",
        "Desviación estándar (muestra): stdev(data, xbar=None)\n",
        "\n",
        "La función stdev() devuelve la desviación estándar de una muestra de datos, \n",
        "que se corresponde con la raíz cuadrada de la varianza de dicha muestra.\n",
        "\n",
        "La desviación estándar mide cuánto se separan los datos. Así, para cada valor \n",
        "se tiene una forma de saber si es muy grande, muy pequeño o normal. Permite \n",
        "conocer a qué distancia están los valores de la desviación estándar de la media.\n",
        "\n",
        "Para calcular la desviación estándar de una población entera utilizar la \n",
        "función pstdev().\n",
        "\n",
        "El argumento xbar es opcional y si se facilita debe ser la media de los datos. \n",
        "En caso contrario, la función lo calculará automáticamente.\n",
        "'''\n",
        "muestra_edades = [22, 23, 26, 26, 34, 38, 40]\n",
        "print(stats.stdev(muestra_edades))     # 7.35"
      ],
      "metadata": {
        "colab": {
          "base_uri": "https://localhost:8080/"
        },
        "id": "4s6MR7hbDjSi",
        "outputId": "a51ae5a5-797f-40f2-fa6d-3dede4e71bdb"
      },
      "execution_count": 31,
      "outputs": [
        {
          "output_type": "stream",
          "name": "stdout",
          "text": [
            "7.358183005529092\n"
          ]
        }
      ]
    },
    {
      "cell_type": "code",
      "source": [
        "import pandas as pd \n",
        "edades = [22, 23, 26, 26, 34, 38, 40]\n",
        "df = pd.DataFrame(edades)\n",
        "\n",
        "rango = df.max() - df.min()\n",
        "\n",
        "print(\"Rango: {}\",  rango)\n",
        "print(\"Devstd: {}\",  df.std())     \n"
      ],
      "metadata": {
        "colab": {
          "base_uri": "https://localhost:8080/"
        },
        "id": "Fl-7GeT2E2R-",
        "outputId": "65f644ed-e684-4395-8130-4965feee8c60"
      },
      "execution_count": 32,
      "outputs": [
        {
          "output_type": "stream",
          "name": "stdout",
          "text": [
            "Rango: {} 0    18\n",
            "dtype: int64\n",
            "Devstd: {} 0    7.358183\n",
            "dtype: float64\n"
          ]
        }
      ]
    },
    {
      "cell_type": "code",
      "source": [
        "import numpy as np\n",
        "\n",
        "#define matriz de datos\n",
        "#datos = np.array ([14, 19, 20, 22, 24, 26, 27, 30, 30, 31, 36, 38, 44, 47])\n",
        "\n",
        "edades = [22, 23, 26, 26, 34, 38, 40]\n",
        "\n",
        "# calcular el rango intercuartílico  \n",
        "q3, q1 = np.percentile(edades, [75, 25])\n",
        "iqr = q3 - q1\n",
        "print(\"Cuartil-3 es: {}, cuartil-1 es: {}\".format(q3, q1))\n",
        "#display rango intercuartílico \n",
        "print(\"El valor intercuartil es: {}\".format(iqr)) \n"
      ],
      "metadata": {
        "colab": {
          "base_uri": "https://localhost:8080/"
        },
        "id": "oZa_G4P4HHHz",
        "outputId": "7d2457bc-4c4b-49d8-e878-3652ee216f4c"
      },
      "execution_count": 35,
      "outputs": [
        {
          "output_type": "stream",
          "name": "stdout",
          "text": [
            "Cuartil-3 es: 36.0, cuartil-1 es: 24.5\n",
            "El valor intercuartil es: 11.5\n"
          ]
        }
      ]
    },
    {
      "cell_type": "markdown",
      "source": [
        "# Tarea de semana:\n",
        "\n",
        "Ejecutar los mismos ejercicios o con datos nuevos en Ms-Excel\n",
        "\n"
      ],
      "metadata": {
        "id": "glEDkFJyJ_YZ"
      }
    },
    {
      "cell_type": "markdown",
      "source": [
        "Fuentes adicionales de consulta: \n",
        "\n",
        "\n",
        "\n",
        "*   https://deepnote.com/@joosu/Estadistica-Descriptiva-7c91e2c1-dc27-4393-95ee-43e8dae10757\n",
        "*   https://statologos.com/rango-intercuartil-python/\n",
        "\n",
        "\n",
        "*   https://interactivechaos.com/es/python/function/statisticsquantiles\n",
        "*   https://www.planillaexcel.com/blog/media-mediana-moda-en-excel\n",
        "\n",
        "\n",
        "\n"
      ],
      "metadata": {
        "id": "7ikvDnrbEjzD"
      }
    },
    {
      "cell_type": "code",
      "source": [],
      "metadata": {
        "id": "D7EsFtHXHxfQ"
      },
      "execution_count": null,
      "outputs": []
    }
  ]
}