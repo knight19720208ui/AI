{
  "nbformat": 4,
  "nbformat_minor": 0,
  "metadata": {
    "colab": {
      "provenance": [],
      "authorship_tag": "ABX9TyM4tt1Pmv5zjfTkjJCra4pi",
      "include_colab_link": true
    },
    "kernelspec": {
      "name": "python3",
      "display_name": "Python 3"
    },
    "language_info": {
      "name": "python"
    }
  },
  "cells": [
    {
      "cell_type": "markdown",
      "metadata": {
        "id": "view-in-github",
        "colab_type": "text"
      },
      "source": [
        "<a href=\"https://colab.research.google.com/github/knight19720208ui/AI/blob/main/KNN_(vecinos_cercanos).ipynb\" target=\"_parent\"><img src=\"https://colab.research.google.com/assets/colab-badge.svg\" alt=\"Open In Colab\"/></a>"
      ]
    },
    {
      "cell_type": "code",
      "source": [
        "#¿ Cómo funciona KNN ?#\n",
        "'''\n",
        "El algoritmo KNN (K Nearest Neighbors) o en español, K Vecinos Más Cercanos, \n",
        "trata de buscar los K puntos más cercanos a un punto concreto para poder \n",
        "inferir su valor. Este algoritmo pertenece al conjunto de técnicas del \n",
        "aprendizaje automático supervisado, y puede ser utilizado tanto para \n",
        "problemas de clasificación, como de regresión.\n",
        "'''"
      ],
      "metadata": {
        "id": "MaA8zA59dY51"
      },
      "execution_count": null,
      "outputs": []
    },
    {
      "cell_type": "markdown",
      "source": [
        "# ¿Qué tenemos? \n",
        "\n",
        "\n",
        "---\n",
        "\n",
        "\n",
        "Supongamos que tenemos la altura y el peso de cinco personas, junto con su respectivo género (Hombre o mujer).\n"
      ],
      "metadata": {
        "id": "0JKKFmRrdutU"
      }
    },
    {
      "cell_type": "markdown",
      "source": [
        "Si nos dieran datos de una sexta persona, pero no nos dieran su género, ¿Podríamos adivinarlo de alguna forma? Aquí es donde entra la fuerza del algoritmo KNN. Como tenemos 5 personas, de las que sí conocemos su género, cogeremos K igual a 3, para coger los 3 puntos más cercanos a nuestro nuevo punto negro. ¿Por qué cogemos 3? Simplemente porque vamos a coger las categorías de los 3 elementos más cercanos y cogeremos la mayoría de estas categorías."
      ],
      "metadata": {
        "id": "O8xD7OPCebIl"
      }
    },
    {
      "cell_type": "code",
      "source": [
        "import matplotlib.pyplot as plt\n",
        "import pandas as pd\n",
        "import seaborn as sns\n",
        "from sklearn.neighbors import KNeighborsClassifier"
      ],
      "metadata": {
        "id": "9vPKxQe3c2f9"
      },
      "execution_count": 2,
      "outputs": []
    },
    {
      "cell_type": "code",
      "source": [
        "data = {'Masa':   [50, 80, 90, 45, 60],\n",
        "        'Altura': [1.48, 1.82, 1.85, 1.55, 1.60],\n",
        "        'Genero': ['m', 'h', 'h', 'm', 'm']}\n",
        "\n",
        "punto_nuevo = {'Masa': [70],\n",
        "               'Altura': [1.82]}\n",
        "df = pd.DataFrame(data)\n"
      ],
      "metadata": {
        "id": "P0YyFkLkc7Sc"
      },
      "execution_count": 7,
      "outputs": []
    },
    {
      "cell_type": "code",
      "source": [
        "df.head()"
      ],
      "metadata": {
        "id": "SK_KNWE1fDRE"
      },
      "execution_count": null,
      "outputs": []
    },
    {
      "cell_type": "code",
      "source": [
        "punto_nuevo = pd.DataFrame(punto_nuevo)\n",
        "\n",
        "ax = plt.axes()\n",
        "ax.scatter(df.loc[df['Genero'] == 'h', 'Masa'],\n",
        "           df.loc[df['Genero'] == 'h', 'Altura'],\n",
        "           c=\"red\",\n",
        "           label=\"Hombre\")\n",
        "\n",
        "ax.scatter(df.loc[df['Genero'] == 'm', 'Masa'],\n",
        "           df.loc[df['Genero'] == 'm', 'Altura'],\n",
        "           c=\"blue\",\n",
        "           label=\"Mujer\")\n",
        "\n",
        "ax.scatter(punto_nuevo['Masa'],\n",
        "           punto_nuevo['Altura'],\n",
        "           c=\"black\")\n",
        "\n",
        "plt.xlabel(\"Masa\")\n",
        "plt.ylabel(\"Altura\")\n",
        "\n",
        "ax.legend()\n",
        "plt.show()"
      ],
      "metadata": {
        "colab": {
          "base_uri": "https://localhost:8080/",
          "height": 279
        },
        "id": "OPc1sb4IfA-M",
        "outputId": "f78c04a7-499e-4da3-a181-09d9961326a6"
      },
      "execution_count": 9,
      "outputs": [
        {
          "output_type": "display_data",
          "data": {
            "text/plain": [
              "<Figure size 432x288 with 1 Axes>"
            ],
            "image/png": "[encoded data removed]"
          },
          "metadata": {
            "needs_background": "light"
          }
        }
      ]
    },
    {
      "cell_type": "markdown",
      "source": [
        "El método iloc se utiliza en los DataFrames para seleccionar los elementos en base a su ubicación. Su sintaxis es **data.iloc[<filas>, <columnas>]**, donde <filas> y <columnas> son la posición de las filas y columnas que se desean seleccionar en el orden que aparecen en el objeto.\n",
        "\n",
        "\n",
        "---\n",
        "df.iloc[0]           Primera fila\n",
        "df.iloc[1]           Segunda fila\n",
        "df.iloc[-1]          Última fila\n",
        "---\n",
        "df.iloc[0:5]         Primeras cinco filas\n",
        "df.iloc[:, 0:5]      Primeras cinco columnas\n",
        "df.iloc[[0,2,1]]     Primera, tercera y segunda filas\n",
        "df.iloc[:, [0,2,1]]  Primera, tercera y segunda columnas\n",
        "---\n",
        "**El método loc** se puede usar de dos formas diferentes: seleccionar filas o columnas en base a una etiqueta o seleccionar filas o columnas en base a una condición.\n",
        "\n",
        "df.loc[:, 'tip'] # Columna tip\n",
        "df.loc[:, ['tip', 'sex', 'day']] # Columnas tip, sex y day"
      ],
      "metadata": {
        "id": "m20dlW75fQf8"
      }
    },
    {
      "cell_type": "code",
      "execution_count": null,
      "metadata": {
        "id": "EBPDJcoKcluR"
      },
      "outputs": [],
      "source": [
        "# \n",
        "from sklearn.neighbors import KNeighborsClassifier\n",
        "knn = KNeighborsClassifier(n_neighbors=3)\n",
        "X = df[['Masa', 'Altura']]\n",
        "y = df[['Genero']]\n",
        "knn.fit(X, y)\n",
        "prediccion = knn.predict(punto_nuevo)\n",
        "print(prediccion)"
      ]
    }
  ]
}